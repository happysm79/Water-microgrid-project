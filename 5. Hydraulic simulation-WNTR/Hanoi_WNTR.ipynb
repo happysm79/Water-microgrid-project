{
 "cells": [
  {
   "cell_type": "code",
   "execution_count": 1,
   "id": "568c6b60",
   "metadata": {},
   "outputs": [
    {
     "name": "stdout",
     "output_type": "stream",
     "text": [
      "Requirement already satisfied: wntr in c:\\python\\python39\\lib\\site-packages (1.1.0)\n",
      "Requirement already satisfied: numpy>=1.21 in c:\\python\\python39\\lib\\site-packages (from wntr) (1.24.3)\n",
      "Requirement already satisfied: scipy in c:\\python\\python39\\lib\\site-packages (from wntr) (1.11.2)\n",
      "Requirement already satisfied: networkx in c:\\python\\python39\\lib\\site-packages (from wntr) (3.2.1)\n",
      "Requirement already satisfied: pandas in c:\\python\\python39\\lib\\site-packages (from wntr) (2.0.3)\n",
      "Requirement already satisfied: matplotlib in c:\\python\\python39\\lib\\site-packages (from wntr) (3.7.2)\n",
      "Requirement already satisfied: contourpy>=1.0.1 in c:\\python\\python39\\lib\\site-packages (from matplotlib->wntr) (1.1.0)\n",
      "Requirement already satisfied: cycler>=0.10 in c:\\python\\python39\\lib\\site-packages (from matplotlib->wntr) (0.11.0)\n",
      "Requirement already satisfied: fonttools>=4.22.0 in c:\\python\\python39\\lib\\site-packages (from matplotlib->wntr) (4.42.1)\n",
      "Requirement already satisfied: kiwisolver>=1.0.1 in c:\\python\\python39\\lib\\site-packages (from matplotlib->wntr) (1.4.5)\n",
      "Requirement already satisfied: packaging>=20.0 in c:\\users\\siu856557843\\appdata\\roaming\\python\\python311\\site-packages (from matplotlib->wntr) (23.1)\n",
      "Requirement already satisfied: pillow>=6.2.0 in c:\\python\\python39\\lib\\site-packages (from matplotlib->wntr) (10.0.0)\n",
      "Requirement already satisfied: pyparsing<3.1,>=2.3.1 in c:\\python\\python39\\lib\\site-packages (from matplotlib->wntr) (3.0.9)\n",
      "Requirement already satisfied: python-dateutil>=2.7 in c:\\users\\siu856557843\\appdata\\roaming\\python\\python311\\site-packages (from matplotlib->wntr) (2.8.2)\n",
      "Requirement already satisfied: pytz>=2020.1 in c:\\python\\python39\\lib\\site-packages (from pandas->wntr) (2023.3)\n",
      "Requirement already satisfied: tzdata>=2022.1 in c:\\python\\python39\\lib\\site-packages (from pandas->wntr) (2023.3)\n",
      "Requirement already satisfied: six>=1.5 in c:\\users\\siu856557843\\appdata\\roaming\\python\\python311\\site-packages (from python-dateutil>=2.7->matplotlib->wntr) (1.16.0)\n",
      "Note: you may need to restart the kernel to use updated packages.\n"
     ]
    },
    {
     "name": "stderr",
     "output_type": "stream",
     "text": [
      "\n",
      "[notice] A new release of pip is available: 23.2.1 -> 24.2\n",
      "[notice] To update, run: python.exe -m pip install --upgrade pip\n"
     ]
    }
   ],
   "source": [
    "pip install wntr"
   ]
  },
  {
   "cell_type": "code",
   "execution_count": 4,
   "id": "abda5a6f",
   "metadata": {
    "id": "abda5a6f"
   },
   "outputs": [],
   "source": [
    "# Import all classes and modules that are required to simulate your WDN model.\n",
    "import wntr\n",
    "import wntr.metrics.economic as metrics    # This module is used for pump energy calculation.\n",
    "import wntr.network.controls as controls    # This module is used to change pump operation (attack to pump).\n",
    "import pandas as pd"
   ]
  },
  {
   "cell_type": "code",
   "execution_count": 5,
   "id": "857233a3",
   "metadata": {
    "id": "857233a3"
   },
   "outputs": [
    {
     "data": {
      "image/png": "[encoded data removed]",
      "text/plain": [
       "<Figure size 640x480 with 1 Axes>"
      ]
     },
     "metadata": {},
     "output_type": "display_data"
    },
    {
     "data": {
      "text/plain": [
       "<AxesSubplot: title={'center': 'Hanoi_D0_F_10inc.inp'}>"
      ]
     },
     "execution_count": 5,
     "metadata": {},
     "output_type": "execute_result"
    }
   ],
   "source": [
    "# Create a water network model.\n",
    "\n",
    "inp_file = 'Hanoi_D0_F_10inc.inp'   # Write the name of your EPANET inp file. Make sure to include the file extensino.\n",
    "\n",
    "wn = wntr.network.WaterNetworkModel(inp_file)   # Load your inp file on WNTR model.\n",
    "wn.options.hydraulic.demand_model = 'PDD'   # Your inp file would be already set as Pressure-driven analysis.\n",
    "\n",
    "wntr.graphics.plot_network(wn, title=wn.name)  # If you want to check your WDN profile, remove # at the beginning of the code."
   ]
  },
  {
   "cell_type": "code",
   "execution_count": 6,
   "id": "e177b89a",
   "metadata": {
    "id": "e177b89a"
   },
   "outputs": [],
   "source": [
    "# Run your WDN model.\n",
    "\n",
    "sim = wntr.sim.WNTRSimulator(wn)    # This means that your will use WNTR simulator to simulate your WDN model.\n",
    "results = sim.run_sim()    # Now, your WDN model run using WNTR simulator."
   ]
  },
  {
   "cell_type": "code",
   "execution_count": 7,
   "id": "4d5876ec",
   "metadata": {
    "id": "4d5876ec"
   },
   "outputs": [],
   "source": [
    "# Get results for supplied demand, nodal head and pressure, and flowrate.\n",
    "\n",
    "Demand = results.node[\"demand\"]      # WNTR always uses SI units. Demand has m3/s.\n",
    "Head = results.node[\"head\"]          # Head's unit is meter.\n",
    "Pressure = results.node[\"pressure\"]  # Pressure's unit is meter (not psi.).\n",
    "Flowrate = results.link[\"flowrate\"]  # This is used to calculate pump power."
   ]
  },
  {
   "cell_type": "code",
   "execution_count": 8,
   "id": "5382bd97",
   "metadata": {
    "id": "5382bd97",
    "outputId": "7f55635c-f124-4cb7-e4dc-b74ea9151d05"
   },
   "outputs": [
    {
     "data": {
      "text/plain": [
       "'# Get results for power use and energy consumption (pump)\\n# If the WDN has multiple pumps, you need to copy and paste this code and change the pump names, node names, and variable names.\\n\\npump_flow = Flowrate[[\\'38\\']]  # Here, \\'9\\' is the pump name. Thus, you should change this with your WND\\'s pump name.\\npump_head = Head[[\\'DR2\\', \\'DT2\\']]  # Here, \\'1\\' and \\'2\\' are the names of start and end nodes of the pump pipe. Thus, if needed, you should change.\\n\\nPump_power = metrics.pump_power(pump_flow, pump_head, wn)  # This caculates pump power time series. Power unit is Watt.\\nPump_energy = metrics.pump_energy(pump_flow, pump_head, wn) # This calculates pump energy time series. Energy unit is J (=Watt *time)\\nEnergy = pd.concat([Pump_power, Pump_energy], axis=1)  # like previous box, now you get Energy data. You can evaluate average or peak energy based on this data.\\nEnergy.columns = [\\'Power (watts)\\', \\'Energy (J)\\']\\n\\n# This algorithm (above) can have an error if the network inp file has a pump efficiency curve. Then, use the following algorithm.\\n\\n# If a pump efficiency is defined in your inp file, use the algorithm below to calculate energy.\\n# But, you should provide the numerical values of average pump_efficiency - you can find it in Energy Rerpot in EPANET.\\n\\n\\nEnergy = pd.DataFrame()\\npump_efficiency = 0.75    # This should be provided.\\n\\npumpLWP1_flow = Flowrate[\\'LWP1\\']  # Here, \\'9\\' is the pump name. Thus, you should change this with your WND\\'s pump name.\\npumpLWP1_head = abs(Head[\\'LR1\\'] - Head[\\'LT1\\'])\\n\\npowerLWP1 = 1000.0 * 9.81 * pumpLWP1_head * pumpLWP1_flow / pump_efficiency\\nenergyLWP1 = powerLWP1 * wn.options.time.report_timestep\\n\\nEnergy[\"pumpLWP1_power\"] = powerLWP1\\nEnergy[\"pumpLWP1_energy\"] = energyLWP1\\n\\n\\n\\npump_efficiency = 0.75    # This should be provided.\\n\\npumpLWP2_flow = Flowrate[\\'LWP2\\']  # Here, \\'9\\' is the pump name. Thus, you should change this with your WND\\'s pump name.\\npumpLWP2_head = abs(Head[\\'LR2\\'] - Head[\\'LT2\\'])\\n\\npowerLWP2 = 1000.0 * 9.81 * pumpLWP2_head * pumpLWP2_flow / pump_efficiency\\nenergyLWP2 = powerLWP2 * wn.options.time.report_timestep\\n\\nEnergy[\"pumpLWP2_power\"] = powerLWP2\\nEnergy[\"pumpLWP2_energy\"] = energyLWP2\\n\\n\\npump_efficiency = 0.75    # This should be provided.\\n\\npumpLWP3_flow = Flowrate[\\'LWP3\\']  # Here, \\'9\\' is the pump name. Thus, you should change this with your WND\\'s pump name.\\npumpLWP3_head = abs(Head[\\'LR3\\'] - Head[\\'LT3\\'])\\n\\npowerLWP3 = 1000.0 * 9.81 * pumpLWP3_head * pumpLWP3_flow / pump_efficiency\\nenergyLWP3 = powerLWP3 * wn.options.time.report_timestep\\n\\nEnergy[\"pumpLWP3_power\"] = powerLWP3\\nEnergy[\"pumpLWP3_energy\"] = energyLWP3\\n\\n\\n\\n'"
      ]
     },
     "execution_count": 8,
     "metadata": {},
     "output_type": "execute_result"
    }
   ],
   "source": [
    "'''# Get results for power use and energy consumption (pump)\n",
    "# If the WDN has multiple pumps, you need to copy and paste this code and change the pump names, node names, and variable names.\n",
    "\n",
    "pump_flow = Flowrate[['38']]  # Here, '9' is the pump name. Thus, you should change this with your WND's pump name.\n",
    "pump_head = Head[['DR2', 'DT2']]  # Here, '1' and '2' are the names of start and end nodes of the pump pipe. Thus, if needed, you should change.\n",
    "\n",
    "Pump_power = metrics.pump_power(pump_flow, pump_head, wn)  # This caculates pump power time series. Power unit is Watt.\n",
    "Pump_energy = metrics.pump_energy(pump_flow, pump_head, wn) # This calculates pump energy time series. Energy unit is J (=Watt *time)\n",
    "Energy = pd.concat([Pump_power, Pump_energy], axis=1)  # like previous box, now you get Energy data. You can evaluate average or peak energy based on this data.\n",
    "Energy.columns = ['Power (watts)', 'Energy (J)']\n",
    "\n",
    "# This algorithm (above) can have an error if the network inp file has a pump efficiency curve. Then, use the following algorithm.\n",
    "\n",
    "# If a pump efficiency is defined in your inp file, use the algorithm below to calculate energy.\n",
    "# But, you should provide the numerical values of average pump_efficiency - you can find it in Energy Rerpot in EPANET.\n",
    "\n",
    "\n",
    "Energy = pd.DataFrame()\n",
    "pump_efficiency = 0.75    # This should be provided.\n",
    "\n",
    "pumpLWP1_flow = Flowrate['LWP1']  # Here, '9' is the pump name. Thus, you should change this with your WND's pump name.\n",
    "pumpLWP1_head = abs(Head['LR1'] - Head['LT1'])\n",
    "\n",
    "powerLWP1 = 1000.0 * 9.81 * pumpLWP1_head * pumpLWP1_flow / pump_efficiency\n",
    "energyLWP1 = powerLWP1 * wn.options.time.report_timestep\n",
    "\n",
    "Energy[\"pumpLWP1_power\"] = powerLWP1\n",
    "Energy[\"pumpLWP1_energy\"] = energyLWP1\n",
    "\n",
    "\n",
    "\n",
    "pump_efficiency = 0.75    # This should be provided.\n",
    "\n",
    "pumpLWP2_flow = Flowrate['LWP2']  # Here, '9' is the pump name. Thus, you should change this with your WND's pump name.\n",
    "pumpLWP2_head = abs(Head['LR2'] - Head['LT2'])\n",
    "\n",
    "powerLWP2 = 1000.0 * 9.81 * pumpLWP2_head * pumpLWP2_flow / pump_efficiency\n",
    "energyLWP2 = powerLWP2 * wn.options.time.report_timestep\n",
    "\n",
    "Energy[\"pumpLWP2_power\"] = powerLWP2\n",
    "Energy[\"pumpLWP2_energy\"] = energyLWP2\n",
    "\n",
    "\n",
    "pump_efficiency = 0.75    # This should be provided.\n",
    "\n",
    "pumpLWP3_flow = Flowrate['LWP3']  # Here, '9' is the pump name. Thus, you should change this with your WND's pump name.\n",
    "pumpLWP3_head = abs(Head['LR3'] - Head['LT3'])\n",
    "\n",
    "powerLWP3 = 1000.0 * 9.81 * pumpLWP3_head * pumpLWP3_flow / pump_efficiency\n",
    "energyLWP3 = powerLWP3 * wn.options.time.report_timestep\n",
    "\n",
    "Energy[\"pumpLWP3_power\"] = powerLWP3\n",
    "Energy[\"pumpLWP3_energy\"] = energyLWP3\n",
    "\n",
    "\n",
    "\n",
    "'''\n",
    "\n"
   ]
  },
  {
   "cell_type": "code",
   "execution_count": 10,
   "id": "27ae45c3",
   "metadata": {
    "id": "27ae45c3"
   },
   "outputs": [],
   "source": [
    "# Export the simulation results to Excel spreadsheets.\n",
    "excel_results2 = pd.ExcelWriter('wntr_results_hanoi_D0_10.xlsx')   # An excel file is created. You can change the file name anytime.\n",
    "Demand.to_excel(excel_results2, sheet_name='Demand')   # A spreadsheet for the result about supplied water to nodes\n",
    "Head.to_excel(excel_results2, sheet_name='Head')       # A spreadsheet for the result about nodal hydraulic head (elevation + pressure)\n",
    "Pressure.to_excel(excel_results2, sheet_name='Pressure')  # A spreadsheet for the result about nodal pressure\n",
    "#Energy.to_excel(excel_results2, sheet_name='Energy')     # A spreadsheet for the result about energy/power use. Here, first and second columns are power and energy, respectively.\n",
    "excel_results2.close()\n"
   ]
  },
  {
   "cell_type": "code",
   "execution_count": null,
   "id": "d5dabc47",
   "metadata": {
    "id": "d5dabc47"
   },
   "outputs": [],
   "source": []
  },
  {
   "cell_type": "code",
   "execution_count": null,
   "id": "c764b004",
   "metadata": {},
   "outputs": [],
   "source": []
  }
 ],
 "metadata": {
  "colab": {
   "provenance": []
  },
  "kernelspec": {
   "display_name": "Python 3 (ipykernel)",
   "language": "python",
   "name": "python3"
  },
  "language_info": {
   "codemirror_mode": {
    "name": "ipython",
    "version": 3
   },
   "file_extension": ".py",
   "mimetype": "text/x-python",
   "name": "python",
   "nbconvert_exporter": "python",
   "pygments_lexer": "ipython3",
   "version": "3.11.2"
  }
 },
 "nbformat": 4,
 "nbformat_minor": 5
}
